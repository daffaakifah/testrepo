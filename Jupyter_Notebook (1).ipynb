{
 "cells": [
  {
   "cell_type": "markdown",
   "metadata": {
    "tags": []
   },
   "source": [
    "<center>\n",
    "    <img src=\"https://cf-courses-data.s3.us.cloud-object-storage.appdomain.cloud/IBMDeveloperSkillsNetwork-DS0105EN-SkillsNetwork/labs/Module2/images/SN_web_lightmode.png\" width=\"300\" alt=\"cognitiveclass.ai logo\"  />\n",
    "</center>\n"
   ]
  },
  {
   "cell_type": "markdown",
   "metadata": {},
   "source": [
    "## My Jupiter Notebook on IBM Watson"
   ]
  },
  {
   "cell_type": "markdown",
   "metadata": {},
   "source": [
    "__Daffa Akifah Balqis__"
   ]
  },
  {
   "cell_type": "markdown",
   "metadata": {},
   "source": [
    "A college student"
   ]
  },
  {
   "cell_type": "markdown",
   "metadata": {},
   "source": [
    "_I am interested in science, technology, mathematic, and languange._"
   ]
  },
  {
   "cell_type": "markdown",
   "metadata": {},
   "source": [
    "This is a simple task that using Jupyter_Notebook"
   ]
  },
  {
   "cell_type": "code",
   "execution_count": 2,
   "metadata": {},
   "outputs": [
    {
     "data": {
      "text/plain": [
       "4048"
      ]
     },
     "execution_count": 2,
     "metadata": {},
     "output_type": "execute_result"
    }
   ],
   "source": [
    "2022 * 2 + 4"
   ]
  },
  {
   "cell_type": "markdown",
   "metadata": {},
   "source": [
    "<html>\n",
    "    <title>aaa</title>\n",
    "    <body>\n",
    "        <h1>a list of number</h1>\n",
    "        <ul>\n",
    "            <li>One</li>\n",
    "            <li>Two</li>\n",
    "            <li>Three</li>\n",
    "            <li>Four</li>\n",
    "            <li>Five</li>\n",
    "            <li>Six</li>\n",
    "        </ul>\n",
    "        <ol>\n",
    "            <li>A</li>\n",
    "            <li>B</li>\n",
    "            <li>C</li>\n",
    "            <li>D</li>\n",
    "            <li>E</li>\n",
    "            <li>F</li>\n",
    "        </ol>\n",
    "        <table style=\"width:100% border:black\">\n",
    "            <tr>\n",
    "                <th>Name</th>\n",
    "                <th>Group</th>\n",
    "                <th>Hobby</th>\n",
    "            </tr>\n",
    "            <tr>\n",
    "                <th>Dery</th>\n",
    "                <th>WayV</th>\n",
    "                <th>Watching a movie</th>\n",
    "            </tr>\n",
    "            <tr>\n",
    "                <th>Jun</th>\n",
    "                <th>WayV<t\n",
    "        </table>\n",
    "    </body>\n",
    "    </html>"
   ]
  },
  {
   "cell_type": "code",
   "execution_count": null,
   "metadata": {},
   "outputs": [],
   "source": []
  }
 ],
 "metadata": {
  "kernelspec": {
   "display_name": "Python",
   "language": "python",
   "name": "conda-env-python-py"
  },
  "language_info": {
   "codemirror_mode": {
    "name": "ipython",
    "version": 3
   },
   "file_extension": ".py",
   "mimetype": "text/x-python",
   "name": "python",
   "nbconvert_exporter": "python",
   "pygments_lexer": "ipython3",
   "version": "3.7.12"
  }
 },
 "nbformat": 4,
 "nbformat_minor": 4
}
